{
 "cells": [
  {
   "cell_type": "code",
   "execution_count": 1,
   "id": "f2442bba",
   "metadata": {},
   "outputs": [],
   "source": [
    "from random import randint\n",
    "\n",
    "#create a list of play options\n",
    "t = [\"Rock\", \"Paper\", \"Scissors\"]"
   ]
  },
  {
   "cell_type": "code",
   "execution_count": 2,
   "id": "d0366385",
   "metadata": {},
   "outputs": [],
   "source": [
    "#assign a random play to the computer\n",
    "computer = t[randint(0,2)]"
   ]
  },
  {
   "cell_type": "code",
   "execution_count": null,
   "id": "4241143b",
   "metadata": {},
   "outputs": [],
   "source": [
    "#set player to False\n",
    "player = False\n",
    "\n",
    "while player == False:\n",
    "#set player to True\n",
    "    player = input(\"rock, paper, scissors?\")\n",
    "    if player == computer:\n",
    "        print(\"Tie!\")\n",
    "    elif player == \"rock\":\n",
    "        if computer == \"paper\":\n",
    "            print(\"You lose!\", computer, \"covers\", player)\n",
    "        else:\n",
    "            print(\"You win!\", player, \"smashes\", computer)\n",
    "    elif player == \"paper\":\n",
    "        if computer == \"scissors\":\n",
    "            print(\"You lose!\", computer, \"cut\", player)\n",
    "        else:\n",
    "            print(\"You win!\", player, \"covers\", computer)\n",
    "    elif player == \"scissors\":\n",
    "        if computer == \"rock\":\n",
    "            print(\"You lose...\", computer, \"smashes\", player)\n",
    "        else:\n",
    "            print(\"You win!\", player, \"cut\", computer)\n",
    "    else:\n",
    "        print(\"That's not a valid play. Check your spelling!\")\n",
    "    #player was set to True, but we want it to be False so the loop continues\n",
    "    player = False\n",
    "    computer = t[randint(0,2)]\n",
    "     next_calculation = input(\"Let's do next calculation? (yes/no): \")\n",
    "        if next_calculation == \"no\":\n",
    "          break\n",
    "    \n",
    "    else:\n",
    "        print(\"Invalid Input\")"
   ]
  },
  {
   "cell_type": "code",
   "execution_count": null,
   "id": "6602d588",
   "metadata": {},
   "outputs": [],
   "source": []
  }
 ],
 "metadata": {
  "kernelspec": {
   "display_name": "Python 3 (ipykernel)",
   "language": "python",
   "name": "python3"
  },
  "language_info": {
   "codemirror_mode": {
    "name": "ipython",
    "version": 3
   },
   "file_extension": ".py",
   "mimetype": "text/x-python",
   "name": "python",
   "nbconvert_exporter": "python",
   "pygments_lexer": "ipython3",
   "version": "3.9.7"
  }
 },
 "nbformat": 4,
 "nbformat_minor": 5
}
